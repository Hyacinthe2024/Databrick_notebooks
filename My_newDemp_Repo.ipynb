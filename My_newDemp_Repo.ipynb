{
 "cells": [
  {
   "cell_type": "markdown",
   "metadata": {
    "application/vnd.databricks.v1+cell": {
     "cellMetadata": {},
     "inputWidgets": {},
     "nuid": "2ac22043-0830-4734-8911-94d74de88635",
     "showTitle": false,
     "tableResultSettingsMap": {},
     "title": ""
    }
   },
   "source": [
    "#Demo: Adding a Repo from an Existing Git Repository\n",
    "In this demo, we'll add a repo from an existing Git repository using a token for authentication, and describe how to compare, pull, and push changes between Databricks and a Git repository.\n",
    "\n",
    "Steps\n",
    "Add a Repo\n",
    "\n",
    "In Databricks, go to the Repos tab.\n",
    "Click Add Repo and enter the Git repository URL.\n",
    "When prompted, use your personal access token to authenticate.\n",
    "Compare Changes\n",
    "\n",
    "Open a notebook or file in the repo.\n",
    "Databricks shows file status (e.g., modified, untracked).\n",
    "Use the Git menu to view and compare changes.\n",
    "Pull Changes\n",
    "\n",
    "Click Pull to fetch and merge the latest changes from the remote repository.\n",
    "Push Changes\n",
    "\n",
    "After committing your changes, click Push to send your updates to the remote repository.\n",
    "Use the Git sidebar in Databricks to manage version control operations easily.\n",
    "\n"
   ]
  }
 ],
 "metadata": {
  "application/vnd.databricks.v1+notebook": {
   "computePreferences": null,
   "dashboards": [],
   "environmentMetadata": {
    "base_environment": "",
    "environment_version": "2"
   },
   "inputWidgetPreferences": null,
   "language": "sql",
   "notebookMetadata": {
    "pythonIndentUnit": 4
   },
   "notebookName": "My_newDemp_Repos",
   "widgets": {}
  },
  "language_info": {
   "name": "sql"
  }
 },
 "nbformat": 4,
 "nbformat_minor": 0
}
